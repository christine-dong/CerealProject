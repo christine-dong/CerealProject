{
 "cells": [
  {
   "cell_type": "code",
   "execution_count": 2,
   "id": "bcb04eb6",
   "metadata": {},
   "outputs": [
    {
     "name": "stdout",
     "output_type": "stream",
     "text": [
      "API keys loaded\n"
     ]
    }
   ],
   "source": [
    "import os\n",
    "import pandas as pd\n",
    "import requests, json\n",
    "%run APIkeys.py"
   ]
  },
  {
   "cell_type": "code",
   "execution_count": 4,
   "id": "6edd9e93",
   "metadata": {},
   "outputs": [],
   "source": [
    "GE_WF_UPCSs = [\"16000124790\", \"16000122543\", \"16000125063\", \"16000123991\", \"16000487727\", \"30000060834\", \"16000124950\", \"16000125933\", \"16000275157\", \"16000124998\", \"16000487949\", \"30000063224\", \"884912004710\", \"16000487932\", \"884912014269\", \"30000063545\", \"884912129659\", \"16000103719\", \"38000199240\", \"16000163461\", \"38000198717\", \"884912111715\", \"884912249265\", \"16000126855\", \"884912126115\", \"16000120259\", \"884912002372\", \"38000200458\", \"16000163614\", \"30000064306\", \"884912102102\", \"16000152335\", \"884912116505\", \"16000275638\", \"43000129715\", \"16000157811\", \"38000787041\", \"16000121836\", \"21908455563\", \"43000129517\", \"884912126016\", \"16000163669\", \"30000061534\", \"30034019082\", \"884912249272\", \"13562002474\", \"884912117625\", \"43000014271\", \"884912114600\", \"38000200663\"]\n",
    "GE_shelf = GE_WF_UPCSs"
   ]
  },
  {
   "cell_type": "code",
   "execution_count": 5,
   "id": "0be3658e",
   "metadata": {},
   "outputs": [
    {
     "name": "stdout",
     "output_type": "stream",
     "text": [
      "API keys loaded\n"
     ]
    }
   ],
   "source": [
    "%run APIkeys.py"
   ]
  },
  {
   "cell_type": "code",
   "execution_count": 6,
   "id": "2d0c2c32",
   "metadata": {},
   "outputs": [],
   "source": [
    "def checkUPC_V2(upc):\n",
    "    app_id = os.environ['EDAMAM_API_id']\n",
    "    key = os.environ['EDAMAM_API_key']\n",
    "    baseURL = 'https://api.edamam.com/api/food-database/v2/parser?app_id='+app_id+'&app_key='+key+'&upc='\n",
    "    endURL = '&nutrition-type=cooking&category=packaged-foods'\n",
    "    url = baseURL + upc + endURL\n",
    "    info = requests.get(url).json()\n",
    "    if 'error' in info:\n",
    "        return info\n",
    "    else:\n",
    "        answer = info['hints'][0]['food']['nutrients']\n",
    "        \n",
    "        sizeList = info['hints'][0]['food']['servingSizes']\n",
    "        n = len(sizeList)\n",
    "        for i in range(n):\n",
    "            if sizeList[i]['label'] == 'Gram':\n",
    "                answer['servingSize_gram'] = info['hints'][0]['food']['servingSizes'][i]['quantity']\n",
    "            if sizeList[i]['label'] == 'Cup':\n",
    "                answer['servingSize_cup'] = info['hints'][0]['food']['servingSizes'][i]['quantity']\n",
    "        \n",
    "        answer['label'] = info['hints'][0]['food']['label']\n",
    "        answer['upc'] = upc\n",
    "        return answer"
   ]
  },
  {
   "cell_type": "code",
   "execution_count": 7,
   "id": "2b9a94bc",
   "metadata": {},
   "outputs": [],
   "source": [
    "def run_shelf(shelf, verbose = False, leftovers = False, source=\"\"):\n",
    "    \n",
    "    # Shelf - a list of strings, each representing a UPC code\n",
    "    # verbose - boolean telling the function whether to print found/unfound UPCs\n",
    "    # leftovers - boolean telling the function whetehr to output the \n",
    "    \n",
    "    found = []    #container for information on found UPCS\n",
    "    unfound = []  #container for unfound UPCs\n",
    "    \n",
    "    # loop over UPCs in shelf\n",
    "    for upc in shelf:\n",
    "        info = checkUPC_V2(upc)\n",
    "        \n",
    "        if 'error' in info:\n",
    "            unfound.append(upc) #add to the unfound container\n",
    "            if verbose:\n",
    "                print('UPC ',upc, ' does not exist in the API\\'s data base')\n",
    "        \n",
    "        else:\n",
    "            if verbose:\n",
    "                print('UPC ',upc, ' exists in the API\\'s data base')\n",
    "            found.append(info)\n",
    "    \n",
    "    # turn the dictionary found into aDataframe\n",
    "    if len(found)>0:\n",
    "        df_found = pd.DataFrame(found)\n",
    "    else:\n",
    "        df_found = pd.DataFrame()\n",
    "    \n",
    "    # add a source column\n",
    "    df_found[\"dataSource\"] = pd.Series([source for i in range(len(df_found.index))])\n",
    "    \n",
    "    \n",
    "    # return the values of found and unfound (optional)\n",
    "    if leftovers:\n",
    "        return df_found.head(),unfound\n",
    "    else:\n",
    "        return df_found.head()"
   ]
  },
  {
   "cell_type": "code",
   "execution_count": 8,
   "id": "65c29121",
   "metadata": {},
   "outputs": [
    {
     "name": "stdout",
     "output_type": "stream",
     "text": [
      "There are 77 rows and 16 columns\n"
     ]
    }
   ],
   "source": [
    "df1 = pd.read_csv('/Users/monicakang/Desktop/Cereal_Project/cereal_kaggle.csv', delimiter=',')\n",
    "df1.dataframeName = 'cereal.csv'\n",
    "nRow, nCol = df1.shape\n",
    "print(f'There are {nRow} rows and {nCol} columns')"
   ]
  },
  {
   "cell_type": "code",
   "execution_count": 9,
   "id": "1334e4fe",
   "metadata": {},
   "outputs": [
    {
     "data": {
      "text/html": [
       "<div>\n",
       "<style scoped>\n",
       "    .dataframe tbody tr th:only-of-type {\n",
       "        vertical-align: middle;\n",
       "    }\n",
       "\n",
       "    .dataframe tbody tr th {\n",
       "        vertical-align: top;\n",
       "    }\n",
       "\n",
       "    .dataframe thead th {\n",
       "        text-align: right;\n",
       "    }\n",
       "</style>\n",
       "<table border=\"1\" class=\"dataframe\">\n",
       "  <thead>\n",
       "    <tr style=\"text-align: right;\">\n",
       "      <th></th>\n",
       "      <th>name</th>\n",
       "      <th>mfr</th>\n",
       "      <th>type</th>\n",
       "      <th>calories</th>\n",
       "      <th>protein</th>\n",
       "      <th>fat</th>\n",
       "      <th>sodium</th>\n",
       "      <th>fiber</th>\n",
       "      <th>carbo</th>\n",
       "      <th>sugars</th>\n",
       "      <th>potass</th>\n",
       "      <th>vitamins</th>\n",
       "      <th>shelf</th>\n",
       "      <th>weight</th>\n",
       "      <th>cups</th>\n",
       "      <th>rating</th>\n",
       "    </tr>\n",
       "  </thead>\n",
       "  <tbody>\n",
       "    <tr>\n",
       "      <th>0</th>\n",
       "      <td>100% Bran</td>\n",
       "      <td>N</td>\n",
       "      <td>C</td>\n",
       "      <td>70</td>\n",
       "      <td>4</td>\n",
       "      <td>1</td>\n",
       "      <td>130</td>\n",
       "      <td>10.0</td>\n",
       "      <td>5.0</td>\n",
       "      <td>6</td>\n",
       "      <td>280</td>\n",
       "      <td>25</td>\n",
       "      <td>3</td>\n",
       "      <td>1.0</td>\n",
       "      <td>0.33</td>\n",
       "      <td>68.402973</td>\n",
       "    </tr>\n",
       "    <tr>\n",
       "      <th>1</th>\n",
       "      <td>100% Natural Bran</td>\n",
       "      <td>Q</td>\n",
       "      <td>C</td>\n",
       "      <td>120</td>\n",
       "      <td>3</td>\n",
       "      <td>5</td>\n",
       "      <td>15</td>\n",
       "      <td>2.0</td>\n",
       "      <td>8.0</td>\n",
       "      <td>8</td>\n",
       "      <td>135</td>\n",
       "      <td>0</td>\n",
       "      <td>3</td>\n",
       "      <td>1.0</td>\n",
       "      <td>1.00</td>\n",
       "      <td>33.983679</td>\n",
       "    </tr>\n",
       "    <tr>\n",
       "      <th>2</th>\n",
       "      <td>All-Bran</td>\n",
       "      <td>K</td>\n",
       "      <td>C</td>\n",
       "      <td>70</td>\n",
       "      <td>4</td>\n",
       "      <td>1</td>\n",
       "      <td>260</td>\n",
       "      <td>9.0</td>\n",
       "      <td>7.0</td>\n",
       "      <td>5</td>\n",
       "      <td>320</td>\n",
       "      <td>25</td>\n",
       "      <td>3</td>\n",
       "      <td>1.0</td>\n",
       "      <td>0.33</td>\n",
       "      <td>59.425505</td>\n",
       "    </tr>\n",
       "    <tr>\n",
       "      <th>3</th>\n",
       "      <td>All-Bran with Extra Fiber</td>\n",
       "      <td>K</td>\n",
       "      <td>C</td>\n",
       "      <td>50</td>\n",
       "      <td>4</td>\n",
       "      <td>0</td>\n",
       "      <td>140</td>\n",
       "      <td>14.0</td>\n",
       "      <td>8.0</td>\n",
       "      <td>0</td>\n",
       "      <td>330</td>\n",
       "      <td>25</td>\n",
       "      <td>3</td>\n",
       "      <td>1.0</td>\n",
       "      <td>0.50</td>\n",
       "      <td>93.704912</td>\n",
       "    </tr>\n",
       "    <tr>\n",
       "      <th>4</th>\n",
       "      <td>Almond Delight</td>\n",
       "      <td>R</td>\n",
       "      <td>C</td>\n",
       "      <td>110</td>\n",
       "      <td>2</td>\n",
       "      <td>2</td>\n",
       "      <td>200</td>\n",
       "      <td>1.0</td>\n",
       "      <td>14.0</td>\n",
       "      <td>8</td>\n",
       "      <td>-1</td>\n",
       "      <td>25</td>\n",
       "      <td>3</td>\n",
       "      <td>1.0</td>\n",
       "      <td>0.75</td>\n",
       "      <td>34.384843</td>\n",
       "    </tr>\n",
       "    <tr>\n",
       "      <th>...</th>\n",
       "      <td>...</td>\n",
       "      <td>...</td>\n",
       "      <td>...</td>\n",
       "      <td>...</td>\n",
       "      <td>...</td>\n",
       "      <td>...</td>\n",
       "      <td>...</td>\n",
       "      <td>...</td>\n",
       "      <td>...</td>\n",
       "      <td>...</td>\n",
       "      <td>...</td>\n",
       "      <td>...</td>\n",
       "      <td>...</td>\n",
       "      <td>...</td>\n",
       "      <td>...</td>\n",
       "      <td>...</td>\n",
       "    </tr>\n",
       "    <tr>\n",
       "      <th>72</th>\n",
       "      <td>Triples</td>\n",
       "      <td>G</td>\n",
       "      <td>C</td>\n",
       "      <td>110</td>\n",
       "      <td>2</td>\n",
       "      <td>1</td>\n",
       "      <td>250</td>\n",
       "      <td>0.0</td>\n",
       "      <td>21.0</td>\n",
       "      <td>3</td>\n",
       "      <td>60</td>\n",
       "      <td>25</td>\n",
       "      <td>3</td>\n",
       "      <td>1.0</td>\n",
       "      <td>0.75</td>\n",
       "      <td>39.106174</td>\n",
       "    </tr>\n",
       "    <tr>\n",
       "      <th>73</th>\n",
       "      <td>Trix</td>\n",
       "      <td>G</td>\n",
       "      <td>C</td>\n",
       "      <td>110</td>\n",
       "      <td>1</td>\n",
       "      <td>1</td>\n",
       "      <td>140</td>\n",
       "      <td>0.0</td>\n",
       "      <td>13.0</td>\n",
       "      <td>12</td>\n",
       "      <td>25</td>\n",
       "      <td>25</td>\n",
       "      <td>2</td>\n",
       "      <td>1.0</td>\n",
       "      <td>1.00</td>\n",
       "      <td>27.753301</td>\n",
       "    </tr>\n",
       "    <tr>\n",
       "      <th>74</th>\n",
       "      <td>Wheat Chex</td>\n",
       "      <td>R</td>\n",
       "      <td>C</td>\n",
       "      <td>100</td>\n",
       "      <td>3</td>\n",
       "      <td>1</td>\n",
       "      <td>230</td>\n",
       "      <td>3.0</td>\n",
       "      <td>17.0</td>\n",
       "      <td>3</td>\n",
       "      <td>115</td>\n",
       "      <td>25</td>\n",
       "      <td>1</td>\n",
       "      <td>1.0</td>\n",
       "      <td>0.67</td>\n",
       "      <td>49.787445</td>\n",
       "    </tr>\n",
       "    <tr>\n",
       "      <th>75</th>\n",
       "      <td>Wheaties</td>\n",
       "      <td>G</td>\n",
       "      <td>C</td>\n",
       "      <td>100</td>\n",
       "      <td>3</td>\n",
       "      <td>1</td>\n",
       "      <td>200</td>\n",
       "      <td>3.0</td>\n",
       "      <td>17.0</td>\n",
       "      <td>3</td>\n",
       "      <td>110</td>\n",
       "      <td>25</td>\n",
       "      <td>1</td>\n",
       "      <td>1.0</td>\n",
       "      <td>1.00</td>\n",
       "      <td>51.592193</td>\n",
       "    </tr>\n",
       "    <tr>\n",
       "      <th>76</th>\n",
       "      <td>Wheaties Honey Gold</td>\n",
       "      <td>G</td>\n",
       "      <td>C</td>\n",
       "      <td>110</td>\n",
       "      <td>2</td>\n",
       "      <td>1</td>\n",
       "      <td>200</td>\n",
       "      <td>1.0</td>\n",
       "      <td>16.0</td>\n",
       "      <td>8</td>\n",
       "      <td>60</td>\n",
       "      <td>25</td>\n",
       "      <td>1</td>\n",
       "      <td>1.0</td>\n",
       "      <td>0.75</td>\n",
       "      <td>36.187559</td>\n",
       "    </tr>\n",
       "  </tbody>\n",
       "</table>\n",
       "<p>77 rows × 16 columns</p>\n",
       "</div>"
      ],
      "text/plain": [
       "                         name mfr type  calories  protein  fat  sodium  fiber  \\\n",
       "0                   100% Bran   N    C        70        4    1     130   10.0   \n",
       "1           100% Natural Bran   Q    C       120        3    5      15    2.0   \n",
       "2                    All-Bran   K    C        70        4    1     260    9.0   \n",
       "3   All-Bran with Extra Fiber   K    C        50        4    0     140   14.0   \n",
       "4              Almond Delight   R    C       110        2    2     200    1.0   \n",
       "..                        ...  ..  ...       ...      ...  ...     ...    ...   \n",
       "72                    Triples   G    C       110        2    1     250    0.0   \n",
       "73                       Trix   G    C       110        1    1     140    0.0   \n",
       "74                 Wheat Chex   R    C       100        3    1     230    3.0   \n",
       "75                   Wheaties   G    C       100        3    1     200    3.0   \n",
       "76        Wheaties Honey Gold   G    C       110        2    1     200    1.0   \n",
       "\n",
       "    carbo  sugars  potass  vitamins  shelf  weight  cups     rating  \n",
       "0     5.0       6     280        25      3     1.0  0.33  68.402973  \n",
       "1     8.0       8     135         0      3     1.0  1.00  33.983679  \n",
       "2     7.0       5     320        25      3     1.0  0.33  59.425505  \n",
       "3     8.0       0     330        25      3     1.0  0.50  93.704912  \n",
       "4    14.0       8      -1        25      3     1.0  0.75  34.384843  \n",
       "..    ...     ...     ...       ...    ...     ...   ...        ...  \n",
       "72   21.0       3      60        25      3     1.0  0.75  39.106174  \n",
       "73   13.0      12      25        25      2     1.0  1.00  27.753301  \n",
       "74   17.0       3     115        25      1     1.0  0.67  49.787445  \n",
       "75   17.0       3     110        25      1     1.0  1.00  51.592193  \n",
       "76   16.0       8      60        25      1     1.0  0.75  36.187559  \n",
       "\n",
       "[77 rows x 16 columns]"
      ]
     },
     "execution_count": 9,
     "metadata": {},
     "output_type": "execute_result"
    }
   ],
   "source": [
    "df1"
   ]
  },
  {
   "cell_type": "code",
   "execution_count": 10,
   "id": "1496cd18",
   "metadata": {},
   "outputs": [],
   "source": [
    "#cleaning. \n",
    "df1 = df1.loc[df1[\"type\"] !='H'] # there were 3 instances of type = 'H' so I dropped to avoid confusion\n",
    "df1 = df1.drop(columns = {'mfr','type','rating',\"weight\",\"shelf\"}) # drop unnecessary\n",
    "df1['source'] = 'kaggle'"
   ]
  },
  {
   "cell_type": "code",
   "execution_count": 11,
   "id": "d22dd964",
   "metadata": {},
   "outputs": [],
   "source": [
    "df2 = run_shelf(GE_shelf)"
   ]
  },
  {
   "cell_type": "code",
   "execution_count": 12,
   "id": "59dbbdf9",
   "metadata": {},
   "outputs": [],
   "source": [
    "df2 = df2.rename(columns = {\"label\":\"name\",\n",
    "                           \"SUGAR\":\"sugars\",\n",
    "                           \"FAT\":\"fat\",\n",
    "                           \"FIBTG\":\"fiber\",\n",
    "                            \"ENERC_KCAL\":\"calorie\",\n",
    "                            \"PROCNT\":\"protein\",\n",
    "                            \"K\":\"potass\",\n",
    "                            \"NA\":\"sodium\",\n",
    "                            \"CHOCDF\":\"carbo\",\n",
    "                            \"servingSize_cup\":\"cups\"\n",
    "                           })\n",
    "df2['source'] = 'edamam, whole foods'"
   ]
  },
  {
   "cell_type": "code",
   "execution_count": 13,
   "id": "e5788ee9",
   "metadata": {},
   "outputs": [],
   "source": [
    "df2 = df2[[\"name\",\n",
    "         \"sugars\",\n",
    "         \"fat\",\n",
    "         \"fiber\",\n",
    "         \"calorie\",\n",
    "          \"protein\",\n",
    "          \"potass\",\n",
    "          \"sodium\",\n",
    "          \"carbo\",\n",
    "          \"cups\",\n",
    "           \"source\"\n",
    "          ]]"
   ]
  },
  {
   "cell_type": "code",
   "execution_count": 14,
   "id": "9aaf6307",
   "metadata": {},
   "outputs": [],
   "source": [
    "df1.head()\n",
    "df2= df2[[\"name\",\"calorie\",\"protein\",\"fat\",\"sodium\",\"fiber\",\"carbo\",\"sugars\",\"potass\",\"cups\", \"source\"]]\n",
    "df1 = df1.drop(columns = {\"vitamins\"})"
   ]
  },
  {
   "cell_type": "code",
   "execution_count": 15,
   "id": "e867aa80",
   "metadata": {},
   "outputs": [
    {
     "data": {
      "text/html": [
       "<div>\n",
       "<style scoped>\n",
       "    .dataframe tbody tr th:only-of-type {\n",
       "        vertical-align: middle;\n",
       "    }\n",
       "\n",
       "    .dataframe tbody tr th {\n",
       "        vertical-align: top;\n",
       "    }\n",
       "\n",
       "    .dataframe thead th {\n",
       "        text-align: right;\n",
       "    }\n",
       "</style>\n",
       "<table border=\"1\" class=\"dataframe\">\n",
       "  <thead>\n",
       "    <tr style=\"text-align: right;\">\n",
       "      <th></th>\n",
       "      <th>name</th>\n",
       "      <th>calorie</th>\n",
       "      <th>protein</th>\n",
       "      <th>fat</th>\n",
       "      <th>sodium</th>\n",
       "      <th>fiber</th>\n",
       "      <th>carbo</th>\n",
       "      <th>sugars</th>\n",
       "      <th>potass</th>\n",
       "      <th>cups</th>\n",
       "      <th>source</th>\n",
       "    </tr>\n",
       "  </thead>\n",
       "  <tbody>\n",
       "    <tr>\n",
       "      <th>0</th>\n",
       "      <td>Honey Nut Cheerios</td>\n",
       "      <td>393.000000</td>\n",
       "      <td>7.140000</td>\n",
       "      <td>5.360000</td>\n",
       "      <td>571.00000</td>\n",
       "      <td>7.100000</td>\n",
       "      <td>78.570000</td>\n",
       "      <td>32.139999</td>\n",
       "      <td>411.000000</td>\n",
       "      <td>0.75</td>\n",
       "      <td>edamam, whole foods</td>\n",
       "    </tr>\n",
       "    <tr>\n",
       "      <th>1</th>\n",
       "      <td>Cinnamon Toast Crunch Cereal</td>\n",
       "      <td>419.000000</td>\n",
       "      <td>3.230000</td>\n",
       "      <td>9.680000</td>\n",
       "      <td>581.00000</td>\n",
       "      <td>6.500000</td>\n",
       "      <td>80.650002</td>\n",
       "      <td>29.030001</td>\n",
       "      <td>177.000000</td>\n",
       "      <td>0.75</td>\n",
       "      <td>edamam, whole foods</td>\n",
       "    </tr>\n",
       "    <tr>\n",
       "      <th>2</th>\n",
       "      <td>Honey Nut Cheerios</td>\n",
       "      <td>393.000000</td>\n",
       "      <td>7.140000</td>\n",
       "      <td>5.360000</td>\n",
       "      <td>571.00000</td>\n",
       "      <td>7.100000</td>\n",
       "      <td>78.570000</td>\n",
       "      <td>32.139999</td>\n",
       "      <td>411.000000</td>\n",
       "      <td>0.75</td>\n",
       "      <td>edamam, whole foods</td>\n",
       "    </tr>\n",
       "    <tr>\n",
       "      <th>3</th>\n",
       "      <td>Lucky Charms Cereal Frosted Toasted Oat, With ...</td>\n",
       "      <td>407.407407</td>\n",
       "      <td>7.407407</td>\n",
       "      <td>3.703704</td>\n",
       "      <td>629.62963</td>\n",
       "      <td>7.407407</td>\n",
       "      <td>81.481481</td>\n",
       "      <td>37.037037</td>\n",
       "      <td>185.185185</td>\n",
       "      <td>0.75</td>\n",
       "      <td>edamam, whole foods</td>\n",
       "    </tr>\n",
       "    <tr>\n",
       "      <th>4</th>\n",
       "      <td>Cheerios Cereal</td>\n",
       "      <td>357.000000</td>\n",
       "      <td>10.710000</td>\n",
       "      <td>7.140000</td>\n",
       "      <td>500.00000</td>\n",
       "      <td>10.700000</td>\n",
       "      <td>71.430000</td>\n",
       "      <td>3.570000</td>\n",
       "      <td>643.000000</td>\n",
       "      <td>1.00</td>\n",
       "      <td>edamam, whole foods</td>\n",
       "    </tr>\n",
       "  </tbody>\n",
       "</table>\n",
       "</div>"
      ],
      "text/plain": [
       "                                                name     calorie    protein  \\\n",
       "0                                 Honey Nut Cheerios  393.000000   7.140000   \n",
       "1                       Cinnamon Toast Crunch Cereal  419.000000   3.230000   \n",
       "2                                 Honey Nut Cheerios  393.000000   7.140000   \n",
       "3  Lucky Charms Cereal Frosted Toasted Oat, With ...  407.407407   7.407407   \n",
       "4                                    Cheerios Cereal  357.000000  10.710000   \n",
       "\n",
       "        fat     sodium      fiber      carbo     sugars      potass  cups  \\\n",
       "0  5.360000  571.00000   7.100000  78.570000  32.139999  411.000000  0.75   \n",
       "1  9.680000  581.00000   6.500000  80.650002  29.030001  177.000000  0.75   \n",
       "2  5.360000  571.00000   7.100000  78.570000  32.139999  411.000000  0.75   \n",
       "3  3.703704  629.62963   7.407407  81.481481  37.037037  185.185185  0.75   \n",
       "4  7.140000  500.00000  10.700000  71.430000   3.570000  643.000000  1.00   \n",
       "\n",
       "                source  \n",
       "0  edamam, whole foods  \n",
       "1  edamam, whole foods  \n",
       "2  edamam, whole foods  \n",
       "3  edamam, whole foods  \n",
       "4  edamam, whole foods  "
      ]
     },
     "execution_count": 15,
     "metadata": {},
     "output_type": "execute_result"
    }
   ],
   "source": [
    "df2.head()"
   ]
  },
  {
   "cell_type": "code",
   "execution_count": 16,
   "id": "8c089178",
   "metadata": {},
   "outputs": [
    {
     "data": {
      "text/html": [
       "<div>\n",
       "<style scoped>\n",
       "    .dataframe tbody tr th:only-of-type {\n",
       "        vertical-align: middle;\n",
       "    }\n",
       "\n",
       "    .dataframe tbody tr th {\n",
       "        vertical-align: top;\n",
       "    }\n",
       "\n",
       "    .dataframe thead th {\n",
       "        text-align: right;\n",
       "    }\n",
       "</style>\n",
       "<table border=\"1\" class=\"dataframe\">\n",
       "  <thead>\n",
       "    <tr style=\"text-align: right;\">\n",
       "      <th></th>\n",
       "      <th>name</th>\n",
       "      <th>calorie</th>\n",
       "      <th>protein</th>\n",
       "      <th>fat</th>\n",
       "      <th>sodium</th>\n",
       "      <th>fiber</th>\n",
       "      <th>carbo</th>\n",
       "      <th>sugars</th>\n",
       "      <th>potass</th>\n",
       "      <th>cups</th>\n",
       "      <th>source</th>\n",
       "    </tr>\n",
       "  </thead>\n",
       "  <tbody>\n",
       "    <tr>\n",
       "      <th>0</th>\n",
       "      <td>Honey Nut Cheerios</td>\n",
       "      <td>393.000000</td>\n",
       "      <td>7.140000</td>\n",
       "      <td>5.360000</td>\n",
       "      <td>571.00000</td>\n",
       "      <td>7.100000</td>\n",
       "      <td>78.570000</td>\n",
       "      <td>32.139999</td>\n",
       "      <td>411.000000</td>\n",
       "      <td>0.75</td>\n",
       "      <td>edamam, whole foods</td>\n",
       "    </tr>\n",
       "    <tr>\n",
       "      <th>1</th>\n",
       "      <td>Cinnamon Toast Crunch Cereal</td>\n",
       "      <td>419.000000</td>\n",
       "      <td>3.230000</td>\n",
       "      <td>9.680000</td>\n",
       "      <td>581.00000</td>\n",
       "      <td>6.500000</td>\n",
       "      <td>80.650002</td>\n",
       "      <td>29.030001</td>\n",
       "      <td>177.000000</td>\n",
       "      <td>0.75</td>\n",
       "      <td>edamam, whole foods</td>\n",
       "    </tr>\n",
       "    <tr>\n",
       "      <th>2</th>\n",
       "      <td>Honey Nut Cheerios</td>\n",
       "      <td>393.000000</td>\n",
       "      <td>7.140000</td>\n",
       "      <td>5.360000</td>\n",
       "      <td>571.00000</td>\n",
       "      <td>7.100000</td>\n",
       "      <td>78.570000</td>\n",
       "      <td>32.139999</td>\n",
       "      <td>411.000000</td>\n",
       "      <td>0.75</td>\n",
       "      <td>edamam, whole foods</td>\n",
       "    </tr>\n",
       "    <tr>\n",
       "      <th>3</th>\n",
       "      <td>Lucky Charms Cereal Frosted Toasted Oat, With ...</td>\n",
       "      <td>407.407407</td>\n",
       "      <td>7.407407</td>\n",
       "      <td>3.703704</td>\n",
       "      <td>629.62963</td>\n",
       "      <td>7.407407</td>\n",
       "      <td>81.481481</td>\n",
       "      <td>37.037037</td>\n",
       "      <td>185.185185</td>\n",
       "      <td>0.75</td>\n",
       "      <td>edamam, whole foods</td>\n",
       "    </tr>\n",
       "    <tr>\n",
       "      <th>4</th>\n",
       "      <td>Cheerios Cereal</td>\n",
       "      <td>357.000000</td>\n",
       "      <td>10.710000</td>\n",
       "      <td>7.140000</td>\n",
       "      <td>500.00000</td>\n",
       "      <td>10.700000</td>\n",
       "      <td>71.430000</td>\n",
       "      <td>3.570000</td>\n",
       "      <td>643.000000</td>\n",
       "      <td>1.00</td>\n",
       "      <td>edamam, whole foods</td>\n",
       "    </tr>\n",
       "  </tbody>\n",
       "</table>\n",
       "</div>"
      ],
      "text/plain": [
       "                                                name     calorie    protein  \\\n",
       "0                                 Honey Nut Cheerios  393.000000   7.140000   \n",
       "1                       Cinnamon Toast Crunch Cereal  419.000000   3.230000   \n",
       "2                                 Honey Nut Cheerios  393.000000   7.140000   \n",
       "3  Lucky Charms Cereal Frosted Toasted Oat, With ...  407.407407   7.407407   \n",
       "4                                    Cheerios Cereal  357.000000  10.710000   \n",
       "\n",
       "        fat     sodium      fiber      carbo     sugars      potass  cups  \\\n",
       "0  5.360000  571.00000   7.100000  78.570000  32.139999  411.000000  0.75   \n",
       "1  9.680000  581.00000   6.500000  80.650002  29.030001  177.000000  0.75   \n",
       "2  5.360000  571.00000   7.100000  78.570000  32.139999  411.000000  0.75   \n",
       "3  3.703704  629.62963   7.407407  81.481481  37.037037  185.185185  0.75   \n",
       "4  7.140000  500.00000  10.700000  71.430000   3.570000  643.000000  1.00   \n",
       "\n",
       "                source  \n",
       "0  edamam, whole foods  \n",
       "1  edamam, whole foods  \n",
       "2  edamam, whole foods  \n",
       "3  edamam, whole foods  \n",
       "4  edamam, whole foods  "
      ]
     },
     "execution_count": 16,
     "metadata": {},
     "output_type": "execute_result"
    }
   ],
   "source": [
    "df2"
   ]
  },
  {
   "cell_type": "code",
   "execution_count": 17,
   "id": "695619b0",
   "metadata": {},
   "outputs": [
    {
     "data": {
      "text/html": [
       "<div>\n",
       "<style scoped>\n",
       "    .dataframe tbody tr th:only-of-type {\n",
       "        vertical-align: middle;\n",
       "    }\n",
       "\n",
       "    .dataframe tbody tr th {\n",
       "        vertical-align: top;\n",
       "    }\n",
       "\n",
       "    .dataframe thead th {\n",
       "        text-align: right;\n",
       "    }\n",
       "</style>\n",
       "<table border=\"1\" class=\"dataframe\">\n",
       "  <thead>\n",
       "    <tr style=\"text-align: right;\">\n",
       "      <th></th>\n",
       "      <th>name</th>\n",
       "      <th>calorie</th>\n",
       "      <th>protein</th>\n",
       "      <th>fat</th>\n",
       "      <th>sodium</th>\n",
       "      <th>fiber</th>\n",
       "      <th>carbo</th>\n",
       "      <th>sugars</th>\n",
       "      <th>potass</th>\n",
       "      <th>cups</th>\n",
       "      <th>source</th>\n",
       "    </tr>\n",
       "  </thead>\n",
       "  <tbody>\n",
       "    <tr>\n",
       "      <th>0</th>\n",
       "      <td>100% Bran</td>\n",
       "      <td>70</td>\n",
       "      <td>4</td>\n",
       "      <td>1</td>\n",
       "      <td>130</td>\n",
       "      <td>10.0</td>\n",
       "      <td>5.0</td>\n",
       "      <td>6</td>\n",
       "      <td>280</td>\n",
       "      <td>0.33</td>\n",
       "      <td>kaggle</td>\n",
       "    </tr>\n",
       "    <tr>\n",
       "      <th>1</th>\n",
       "      <td>100% Natural Bran</td>\n",
       "      <td>120</td>\n",
       "      <td>3</td>\n",
       "      <td>5</td>\n",
       "      <td>15</td>\n",
       "      <td>2.0</td>\n",
       "      <td>8.0</td>\n",
       "      <td>8</td>\n",
       "      <td>135</td>\n",
       "      <td>1.00</td>\n",
       "      <td>kaggle</td>\n",
       "    </tr>\n",
       "    <tr>\n",
       "      <th>2</th>\n",
       "      <td>All-Bran</td>\n",
       "      <td>70</td>\n",
       "      <td>4</td>\n",
       "      <td>1</td>\n",
       "      <td>260</td>\n",
       "      <td>9.0</td>\n",
       "      <td>7.0</td>\n",
       "      <td>5</td>\n",
       "      <td>320</td>\n",
       "      <td>0.33</td>\n",
       "      <td>kaggle</td>\n",
       "    </tr>\n",
       "    <tr>\n",
       "      <th>3</th>\n",
       "      <td>All-Bran with Extra Fiber</td>\n",
       "      <td>50</td>\n",
       "      <td>4</td>\n",
       "      <td>0</td>\n",
       "      <td>140</td>\n",
       "      <td>14.0</td>\n",
       "      <td>8.0</td>\n",
       "      <td>0</td>\n",
       "      <td>330</td>\n",
       "      <td>0.50</td>\n",
       "      <td>kaggle</td>\n",
       "    </tr>\n",
       "    <tr>\n",
       "      <th>4</th>\n",
       "      <td>Almond Delight</td>\n",
       "      <td>110</td>\n",
       "      <td>2</td>\n",
       "      <td>2</td>\n",
       "      <td>200</td>\n",
       "      <td>1.0</td>\n",
       "      <td>14.0</td>\n",
       "      <td>8</td>\n",
       "      <td>-1</td>\n",
       "      <td>0.75</td>\n",
       "      <td>kaggle</td>\n",
       "    </tr>\n",
       "    <tr>\n",
       "      <th>...</th>\n",
       "      <td>...</td>\n",
       "      <td>...</td>\n",
       "      <td>...</td>\n",
       "      <td>...</td>\n",
       "      <td>...</td>\n",
       "      <td>...</td>\n",
       "      <td>...</td>\n",
       "      <td>...</td>\n",
       "      <td>...</td>\n",
       "      <td>...</td>\n",
       "      <td>...</td>\n",
       "    </tr>\n",
       "    <tr>\n",
       "      <th>72</th>\n",
       "      <td>Triples</td>\n",
       "      <td>110</td>\n",
       "      <td>2</td>\n",
       "      <td>1</td>\n",
       "      <td>250</td>\n",
       "      <td>0.0</td>\n",
       "      <td>21.0</td>\n",
       "      <td>3</td>\n",
       "      <td>60</td>\n",
       "      <td>0.75</td>\n",
       "      <td>kaggle</td>\n",
       "    </tr>\n",
       "    <tr>\n",
       "      <th>73</th>\n",
       "      <td>Trix</td>\n",
       "      <td>110</td>\n",
       "      <td>1</td>\n",
       "      <td>1</td>\n",
       "      <td>140</td>\n",
       "      <td>0.0</td>\n",
       "      <td>13.0</td>\n",
       "      <td>12</td>\n",
       "      <td>25</td>\n",
       "      <td>1.00</td>\n",
       "      <td>kaggle</td>\n",
       "    </tr>\n",
       "    <tr>\n",
       "      <th>74</th>\n",
       "      <td>Wheat Chex</td>\n",
       "      <td>100</td>\n",
       "      <td>3</td>\n",
       "      <td>1</td>\n",
       "      <td>230</td>\n",
       "      <td>3.0</td>\n",
       "      <td>17.0</td>\n",
       "      <td>3</td>\n",
       "      <td>115</td>\n",
       "      <td>0.67</td>\n",
       "      <td>kaggle</td>\n",
       "    </tr>\n",
       "    <tr>\n",
       "      <th>75</th>\n",
       "      <td>Wheaties</td>\n",
       "      <td>100</td>\n",
       "      <td>3</td>\n",
       "      <td>1</td>\n",
       "      <td>200</td>\n",
       "      <td>3.0</td>\n",
       "      <td>17.0</td>\n",
       "      <td>3</td>\n",
       "      <td>110</td>\n",
       "      <td>1.00</td>\n",
       "      <td>kaggle</td>\n",
       "    </tr>\n",
       "    <tr>\n",
       "      <th>76</th>\n",
       "      <td>Wheaties Honey Gold</td>\n",
       "      <td>110</td>\n",
       "      <td>2</td>\n",
       "      <td>1</td>\n",
       "      <td>200</td>\n",
       "      <td>1.0</td>\n",
       "      <td>16.0</td>\n",
       "      <td>8</td>\n",
       "      <td>60</td>\n",
       "      <td>0.75</td>\n",
       "      <td>kaggle</td>\n",
       "    </tr>\n",
       "  </tbody>\n",
       "</table>\n",
       "<p>74 rows × 11 columns</p>\n",
       "</div>"
      ],
      "text/plain": [
       "                         name  calorie  protein  fat  sodium  fiber  carbo  \\\n",
       "0                   100% Bran       70        4    1     130   10.0    5.0   \n",
       "1           100% Natural Bran      120        3    5      15    2.0    8.0   \n",
       "2                    All-Bran       70        4    1     260    9.0    7.0   \n",
       "3   All-Bran with Extra Fiber       50        4    0     140   14.0    8.0   \n",
       "4              Almond Delight      110        2    2     200    1.0   14.0   \n",
       "..                        ...      ...      ...  ...     ...    ...    ...   \n",
       "72                    Triples      110        2    1     250    0.0   21.0   \n",
       "73                       Trix      110        1    1     140    0.0   13.0   \n",
       "74                 Wheat Chex      100        3    1     230    3.0   17.0   \n",
       "75                   Wheaties      100        3    1     200    3.0   17.0   \n",
       "76        Wheaties Honey Gold      110        2    1     200    1.0   16.0   \n",
       "\n",
       "    sugars  potass  cups  source  \n",
       "0        6     280  0.33  kaggle  \n",
       "1        8     135  1.00  kaggle  \n",
       "2        5     320  0.33  kaggle  \n",
       "3        0     330  0.50  kaggle  \n",
       "4        8      -1  0.75  kaggle  \n",
       "..     ...     ...   ...     ...  \n",
       "72       3      60  0.75  kaggle  \n",
       "73      12      25  1.00  kaggle  \n",
       "74       3     115  0.67  kaggle  \n",
       "75       3     110  1.00  kaggle  \n",
       "76       8      60  0.75  kaggle  \n",
       "\n",
       "[74 rows x 11 columns]"
      ]
     },
     "execution_count": 17,
     "metadata": {},
     "output_type": "execute_result"
    }
   ],
   "source": [
    "df1 = df1.rename(columns = {\"calories\":\"calorie\"})\n",
    "df1"
   ]
  },
  {
   "cell_type": "code",
   "execution_count": 18,
   "id": "a1533c9e",
   "metadata": {},
   "outputs": [],
   "source": [
    "frames = [df1,df2]"
   ]
  },
  {
   "cell_type": "code",
   "execution_count": 19,
   "id": "0ad5e1b7",
   "metadata": {},
   "outputs": [],
   "source": [
    "result = pd.concat(frames)"
   ]
  },
  {
   "cell_type": "code",
   "execution_count": 20,
   "id": "5b38790f",
   "metadata": {},
   "outputs": [
    {
     "data": {
      "text/html": [
       "<div>\n",
       "<style scoped>\n",
       "    .dataframe tbody tr th:only-of-type {\n",
       "        vertical-align: middle;\n",
       "    }\n",
       "\n",
       "    .dataframe tbody tr th {\n",
       "        vertical-align: top;\n",
       "    }\n",
       "\n",
       "    .dataframe thead th {\n",
       "        text-align: right;\n",
       "    }\n",
       "</style>\n",
       "<table border=\"1\" class=\"dataframe\">\n",
       "  <thead>\n",
       "    <tr style=\"text-align: right;\">\n",
       "      <th></th>\n",
       "      <th>name</th>\n",
       "      <th>calorie</th>\n",
       "      <th>protein</th>\n",
       "      <th>fat</th>\n",
       "      <th>sodium</th>\n",
       "      <th>fiber</th>\n",
       "      <th>carbo</th>\n",
       "      <th>sugars</th>\n",
       "      <th>potass</th>\n",
       "      <th>cups</th>\n",
       "      <th>source</th>\n",
       "    </tr>\n",
       "  </thead>\n",
       "  <tbody>\n",
       "    <tr>\n",
       "      <th>0</th>\n",
       "      <td>100% Bran</td>\n",
       "      <td>70.000000</td>\n",
       "      <td>4.000000</td>\n",
       "      <td>1.000000</td>\n",
       "      <td>130.00000</td>\n",
       "      <td>10.000000</td>\n",
       "      <td>5.000000</td>\n",
       "      <td>6.000000</td>\n",
       "      <td>280.000000</td>\n",
       "      <td>0.33</td>\n",
       "      <td>kaggle</td>\n",
       "    </tr>\n",
       "    <tr>\n",
       "      <th>1</th>\n",
       "      <td>100% Natural Bran</td>\n",
       "      <td>120.000000</td>\n",
       "      <td>3.000000</td>\n",
       "      <td>5.000000</td>\n",
       "      <td>15.00000</td>\n",
       "      <td>2.000000</td>\n",
       "      <td>8.000000</td>\n",
       "      <td>8.000000</td>\n",
       "      <td>135.000000</td>\n",
       "      <td>1.00</td>\n",
       "      <td>kaggle</td>\n",
       "    </tr>\n",
       "    <tr>\n",
       "      <th>2</th>\n",
       "      <td>All-Bran</td>\n",
       "      <td>70.000000</td>\n",
       "      <td>4.000000</td>\n",
       "      <td>1.000000</td>\n",
       "      <td>260.00000</td>\n",
       "      <td>9.000000</td>\n",
       "      <td>7.000000</td>\n",
       "      <td>5.000000</td>\n",
       "      <td>320.000000</td>\n",
       "      <td>0.33</td>\n",
       "      <td>kaggle</td>\n",
       "    </tr>\n",
       "    <tr>\n",
       "      <th>3</th>\n",
       "      <td>All-Bran with Extra Fiber</td>\n",
       "      <td>50.000000</td>\n",
       "      <td>4.000000</td>\n",
       "      <td>0.000000</td>\n",
       "      <td>140.00000</td>\n",
       "      <td>14.000000</td>\n",
       "      <td>8.000000</td>\n",
       "      <td>0.000000</td>\n",
       "      <td>330.000000</td>\n",
       "      <td>0.50</td>\n",
       "      <td>kaggle</td>\n",
       "    </tr>\n",
       "    <tr>\n",
       "      <th>4</th>\n",
       "      <td>Almond Delight</td>\n",
       "      <td>110.000000</td>\n",
       "      <td>2.000000</td>\n",
       "      <td>2.000000</td>\n",
       "      <td>200.00000</td>\n",
       "      <td>1.000000</td>\n",
       "      <td>14.000000</td>\n",
       "      <td>8.000000</td>\n",
       "      <td>-1.000000</td>\n",
       "      <td>0.75</td>\n",
       "      <td>kaggle</td>\n",
       "    </tr>\n",
       "    <tr>\n",
       "      <th>...</th>\n",
       "      <td>...</td>\n",
       "      <td>...</td>\n",
       "      <td>...</td>\n",
       "      <td>...</td>\n",
       "      <td>...</td>\n",
       "      <td>...</td>\n",
       "      <td>...</td>\n",
       "      <td>...</td>\n",
       "      <td>...</td>\n",
       "      <td>...</td>\n",
       "      <td>...</td>\n",
       "    </tr>\n",
       "    <tr>\n",
       "      <th>0</th>\n",
       "      <td>Honey Nut Cheerios</td>\n",
       "      <td>393.000000</td>\n",
       "      <td>7.140000</td>\n",
       "      <td>5.360000</td>\n",
       "      <td>571.00000</td>\n",
       "      <td>7.100000</td>\n",
       "      <td>78.570000</td>\n",
       "      <td>32.139999</td>\n",
       "      <td>411.000000</td>\n",
       "      <td>0.75</td>\n",
       "      <td>edamam, whole foods</td>\n",
       "    </tr>\n",
       "    <tr>\n",
       "      <th>1</th>\n",
       "      <td>Cinnamon Toast Crunch Cereal</td>\n",
       "      <td>419.000000</td>\n",
       "      <td>3.230000</td>\n",
       "      <td>9.680000</td>\n",
       "      <td>581.00000</td>\n",
       "      <td>6.500000</td>\n",
       "      <td>80.650002</td>\n",
       "      <td>29.030001</td>\n",
       "      <td>177.000000</td>\n",
       "      <td>0.75</td>\n",
       "      <td>edamam, whole foods</td>\n",
       "    </tr>\n",
       "    <tr>\n",
       "      <th>2</th>\n",
       "      <td>Honey Nut Cheerios</td>\n",
       "      <td>393.000000</td>\n",
       "      <td>7.140000</td>\n",
       "      <td>5.360000</td>\n",
       "      <td>571.00000</td>\n",
       "      <td>7.100000</td>\n",
       "      <td>78.570000</td>\n",
       "      <td>32.139999</td>\n",
       "      <td>411.000000</td>\n",
       "      <td>0.75</td>\n",
       "      <td>edamam, whole foods</td>\n",
       "    </tr>\n",
       "    <tr>\n",
       "      <th>3</th>\n",
       "      <td>Lucky Charms Cereal Frosted Toasted Oat, With ...</td>\n",
       "      <td>407.407407</td>\n",
       "      <td>7.407407</td>\n",
       "      <td>3.703704</td>\n",
       "      <td>629.62963</td>\n",
       "      <td>7.407407</td>\n",
       "      <td>81.481481</td>\n",
       "      <td>37.037037</td>\n",
       "      <td>185.185185</td>\n",
       "      <td>0.75</td>\n",
       "      <td>edamam, whole foods</td>\n",
       "    </tr>\n",
       "    <tr>\n",
       "      <th>4</th>\n",
       "      <td>Cheerios Cereal</td>\n",
       "      <td>357.000000</td>\n",
       "      <td>10.710000</td>\n",
       "      <td>7.140000</td>\n",
       "      <td>500.00000</td>\n",
       "      <td>10.700000</td>\n",
       "      <td>71.430000</td>\n",
       "      <td>3.570000</td>\n",
       "      <td>643.000000</td>\n",
       "      <td>1.00</td>\n",
       "      <td>edamam, whole foods</td>\n",
       "    </tr>\n",
       "  </tbody>\n",
       "</table>\n",
       "<p>79 rows × 11 columns</p>\n",
       "</div>"
      ],
      "text/plain": [
       "                                                 name     calorie    protein  \\\n",
       "0                                           100% Bran   70.000000   4.000000   \n",
       "1                                   100% Natural Bran  120.000000   3.000000   \n",
       "2                                            All-Bran   70.000000   4.000000   \n",
       "3                           All-Bran with Extra Fiber   50.000000   4.000000   \n",
       "4                                      Almond Delight  110.000000   2.000000   \n",
       "..                                                ...         ...        ...   \n",
       "0                                  Honey Nut Cheerios  393.000000   7.140000   \n",
       "1                        Cinnamon Toast Crunch Cereal  419.000000   3.230000   \n",
       "2                                  Honey Nut Cheerios  393.000000   7.140000   \n",
       "3   Lucky Charms Cereal Frosted Toasted Oat, With ...  407.407407   7.407407   \n",
       "4                                     Cheerios Cereal  357.000000  10.710000   \n",
       "\n",
       "         fat     sodium      fiber      carbo     sugars      potass  cups  \\\n",
       "0   1.000000  130.00000  10.000000   5.000000   6.000000  280.000000  0.33   \n",
       "1   5.000000   15.00000   2.000000   8.000000   8.000000  135.000000  1.00   \n",
       "2   1.000000  260.00000   9.000000   7.000000   5.000000  320.000000  0.33   \n",
       "3   0.000000  140.00000  14.000000   8.000000   0.000000  330.000000  0.50   \n",
       "4   2.000000  200.00000   1.000000  14.000000   8.000000   -1.000000  0.75   \n",
       "..       ...        ...        ...        ...        ...         ...   ...   \n",
       "0   5.360000  571.00000   7.100000  78.570000  32.139999  411.000000  0.75   \n",
       "1   9.680000  581.00000   6.500000  80.650002  29.030001  177.000000  0.75   \n",
       "2   5.360000  571.00000   7.100000  78.570000  32.139999  411.000000  0.75   \n",
       "3   3.703704  629.62963   7.407407  81.481481  37.037037  185.185185  0.75   \n",
       "4   7.140000  500.00000  10.700000  71.430000   3.570000  643.000000  1.00   \n",
       "\n",
       "                 source  \n",
       "0                kaggle  \n",
       "1                kaggle  \n",
       "2                kaggle  \n",
       "3                kaggle  \n",
       "4                kaggle  \n",
       "..                  ...  \n",
       "0   edamam, whole foods  \n",
       "1   edamam, whole foods  \n",
       "2   edamam, whole foods  \n",
       "3   edamam, whole foods  \n",
       "4   edamam, whole foods  \n",
       "\n",
       "[79 rows x 11 columns]"
      ]
     },
     "execution_count": 20,
     "metadata": {},
     "output_type": "execute_result"
    }
   ],
   "source": [
    "#merged dataframe\n",
    "result"
   ]
  },
  {
   "cell_type": "code",
   "execution_count": 21,
   "id": "00c67fbd",
   "metadata": {},
   "outputs": [],
   "source": [
    "import seaborn as sns"
   ]
  },
  {
   "cell_type": "code",
   "execution_count": 22,
   "id": "39833432",
   "metadata": {},
   "outputs": [
    {
     "data": {
      "text/plain": [
       "<AxesSubplot:>"
      ]
     },
     "execution_count": 22,
     "metadata": {},
     "output_type": "execute_result"
    },
    {
     "data": {
      "image/png": "[encoded data removed]",
      "text/plain": [
       "<Figure size 432x288 with 1 Axes>"
      ]
     },
     "metadata": {
      "needs_background": "light"
     },
     "output_type": "display_data"
    }
   ],
   "source": [
    "sns.heatmap(result.isnull(),yticklabels=False,cbar=False,cmap='viridis')"
   ]
  },
  {
   "cell_type": "code",
   "execution_count": 23,
   "id": "fd922995",
   "metadata": {},
   "outputs": [],
   "source": [
    "#set index to the name of the cereal\n",
    "result.index = result.name"
   ]
  },
  {
   "cell_type": "code",
   "execution_count": 24,
   "id": "44e827e8",
   "metadata": {},
   "outputs": [],
   "source": [
    "df_num = result[[\"calorie\",\"protein\",\"fat\",\"sodium\",\"fiber\",\"carbo\",\"sugars\",\"potass\"]]"
   ]
  },
  {
   "cell_type": "code",
   "execution_count": 28,
   "id": "189e90cf",
   "metadata": {},
   "outputs": [
    {
     "ename": "NameError",
     "evalue": "name 'stats' is not defined",
     "output_type": "error",
     "traceback": [
      "\u001b[0;31m---------------------------------------------------------------------------\u001b[0m",
      "\u001b[0;31mNameError\u001b[0m                                 Traceback (most recent call last)",
      "\u001b[0;32m/var/folders/yw/8q_588657qs1qkd1lv7bxdyr0000gn/T/ipykernel_12523/1315057170.py\u001b[0m in \u001b[0;36m<module>\u001b[0;34m\u001b[0m\n\u001b[1;32m      1\u001b[0m \u001b[0;31m#drop all instances outside of 3 sd from mean\u001b[0m\u001b[0;34m\u001b[0m\u001b[0;34m\u001b[0m\u001b[0m\n\u001b[1;32m      2\u001b[0m \u001b[0;32mimport\u001b[0m \u001b[0mnumpy\u001b[0m \u001b[0;32mas\u001b[0m \u001b[0mnp\u001b[0m\u001b[0;34m\u001b[0m\u001b[0;34m\u001b[0m\u001b[0m\n\u001b[0;32m----> 3\u001b[0;31m \u001b[0mdf_num\u001b[0m \u001b[0;34m=\u001b[0m\u001b[0mdf_num\u001b[0m\u001b[0;34m[\u001b[0m\u001b[0;34m(\u001b[0m\u001b[0mnp\u001b[0m\u001b[0;34m.\u001b[0m\u001b[0mabs\u001b[0m\u001b[0;34m(\u001b[0m\u001b[0mstats\u001b[0m\u001b[0;34m.\u001b[0m\u001b[0mzscore\u001b[0m\u001b[0;34m(\u001b[0m\u001b[0mdf_num\u001b[0m\u001b[0;34m)\u001b[0m\u001b[0;34m)\u001b[0m \u001b[0;34m<\u001b[0m \u001b[0;36m3\u001b[0m\u001b[0;34m)\u001b[0m\u001b[0;34m.\u001b[0m\u001b[0mall\u001b[0m\u001b[0;34m(\u001b[0m\u001b[0maxis\u001b[0m\u001b[0;34m=\u001b[0m\u001b[0;36m1\u001b[0m\u001b[0;34m)\u001b[0m\u001b[0;34m]\u001b[0m\u001b[0;34m\u001b[0m\u001b[0;34m\u001b[0m\u001b[0m\n\u001b[0m",
      "\u001b[0;31mNameError\u001b[0m: name 'stats' is not defined"
     ]
    }
   ],
   "source": [
    "#drop all instances outside of 3 sd from mean\n",
    "df_num =df_num[(np.abs(stats.zscore(df_num)) < 3).all(axis=1)]"
   ]
  },
  {
   "cell_type": "code",
   "execution_count": 26,
   "id": "ef8456e9",
   "metadata": {},
   "outputs": [
    {
     "name": "stderr",
     "output_type": "stream",
     "text": [
      "/Users/monicakang/opt/anaconda3/lib/python3.9/site-packages/pandas/core/indexing.py:1951: SettingWithCopyWarning: \n",
      "A value is trying to be set on a copy of a slice from a DataFrame.\n",
      "Try using .loc[row_indexer,col_indexer] = value instead\n",
      "\n",
      "See the caveats in the documentation: https://pandas.pydata.org/pandas-docs/stable/user_guide/indexing.html#returning-a-view-versus-a-copy\n",
      "  self.obj[selected_item_labels] = value\n"
     ]
    }
   ],
   "source": [
    "def  rescaleFeatures(df_in):\n",
    "    # This function rescale all the columns in dataframe df_in to be\n",
    "    # between 0 and 1. It returns the scaled dataframe as well as the\n",
    "    # lists of minimum and the maximum (so we can rescale back)\n",
    "\n",
    "    df_out = df_in # first, we make a copy of the original df\n",
    "    m = df_out.min() # a list of minimums for all columns in df_in\n",
    "    M = df_out.max() # a list of maximums for all columns in df_in\n",
    "    for i in range(len(df_out.columns)):\n",
    "        df_out.iloc[:,i] = (df_out.iloc[:,i] - m[i])/(M[i]-m[i])\n",
    "    \n",
    "    return df_num,m,M\n",
    "df_num,m,M = rescaleFeatures(df_num)"
   ]
  },
  {
   "cell_type": "code",
   "execution_count": 27,
   "id": "103940c5",
   "metadata": {},
   "outputs": [
    {
     "data": {
      "image/png": "[encoded data removed]",
      "text/plain": [
       "<Figure size 432x288 with 1 Axes>"
      ]
     },
     "metadata": {
      "needs_background": "light"
     },
     "output_type": "display_data"
    },
    {
     "data": {
      "image/png": "[encoded data removed]",
      "text/plain": [
       "<Figure size 432x288 with 1 Axes>"
      ]
     },
     "metadata": {
      "needs_background": "light"
     },
     "output_type": "display_data"
    },
    {
     "name": "stdout",
     "output_type": "stream",
     "text": [
      "mean: 0.20408930765350788\n",
      "median: 0.16260162601626016\n",
      "min: 0.0\n",
      "max: 1.0\n",
      "stdev: 0.19788965507580297\n",
      "______________________________________________________________________\n",
      "\n"
     ]
    },
    {
     "data": {
      "image/png": "[encoded data removed]",
      "text/plain": [
       "<Figure size 432x288 with 1 Axes>"
      ]
     },
     "metadata": {
      "needs_background": "light"
     },
     "output_type": "display_data"
    },
    {
     "data": {
      "image/png": "[encoded data removed]",
      "text/plain": [
       "<Figure size 432x288 with 1 Axes>"
      ]
     },
     "metadata": {
      "needs_background": "light"
     },
     "output_type": "display_data"
    },
    {
     "name": "stdout",
     "output_type": "stream",
     "text": [
      "mean: 0.1833258244079916\n",
      "median: 0.2059732226717554\n",
      "min: 0.0\n",
      "max: 1.0\n",
      "stdev: 0.16953779898783508\n",
      "______________________________________________________________________\n",
      "\n"
     ]
    },
    {
     "data": {
      "image/png": "[encoded data removed]",
      "text/plain": [
       "<Figure size 432x288 with 1 Axes>"
      ]
     },
     "metadata": {
      "needs_background": "light"
     },
     "output_type": "display_data"
    },
    {
     "data": {
      "image/png": "[encoded data removed]",
      "text/plain": [
       "<Figure size 432x288 with 1 Axes>"
      ]
     },
     "metadata": {
      "needs_background": "light"
     },
     "output_type": "display_data"
    },
    {
     "name": "stdout",
     "output_type": "stream",
     "text": [
      "mean: 0.13893150537832138\n",
      "median: 0.1033057818671051\n",
      "min: 0.0\n",
      "max: 1.0\n",
      "stdev: 0.1750564454883678\n",
      "______________________________________________________________________\n",
      "\n"
     ]
    },
    {
     "data": {
      "image/png": "[encoded data removed]",
      "text/plain": [
       "<Figure size 432x288 with 1 Axes>"
      ]
     },
     "metadata": {
      "needs_background": "light"
     },
     "output_type": "display_data"
    },
    {
     "data": {
      "image/png": "[encoded data removed]",
      "text/plain": [
       "<Figure size 432x288 with 1 Axes>"
      ]
     },
     "metadata": {
      "needs_background": "light"
     },
     "output_type": "display_data"
    },
    {
     "name": "stdout",
     "output_type": "stream",
     "text": [
      "mean: 0.3029233060312732\n",
      "median: 0.2858823529411765\n",
      "min: 0.0\n",
      "max: 1.0\n",
      "stdev: 0.2013125421543391\n",
      "______________________________________________________________________\n",
      "\n"
     ]
    },
    {
     "data": {
      "image/png": "[encoded data removed]",
      "text/plain": [
       "<Figure size 432x288 with 1 Axes>"
      ]
     },
     "metadata": {
      "needs_background": "light"
     },
     "output_type": "display_data"
    },
    {
     "data": {
      "image/png": "[encoded data removed]",
      "text/plain": [
       "<Figure size 432x288 with 1 Axes>"
      ]
     },
     "metadata": {
      "needs_background": "light"
     },
     "output_type": "display_data"
    },
    {
     "name": "stdout",
     "output_type": "stream",
     "text": [
      "mean: 0.18156185083719495\n",
      "median: 0.14285714285714285\n",
      "min: 0.0\n",
      "max: 1.0\n",
      "stdev: 0.19511367679209463\n",
      "______________________________________________________________________\n",
      "\n"
     ]
    },
    {
     "data": {
      "image/png": "[encoded data removed]",
      "text/plain": [
       "<Figure size 432x288 with 1 Axes>"
      ]
     },
     "metadata": {
      "needs_background": "light"
     },
     "output_type": "display_data"
    },
    {
     "data": {
      "image/png": "[encoded data removed]",
      "text/plain": [
       "<Figure size 432x288 with 1 Axes>"
      ]
     },
     "metadata": {
      "needs_background": "light"
     },
     "output_type": "display_data"
    },
    {
     "name": "stdout",
     "output_type": "stream",
     "text": [
      "mean: 0.17936028462904335\n",
      "median: 0.13075060532687652\n",
      "min: 0.0\n",
      "max: 1.0\n",
      "stdev: 0.20944932531757834\n",
      "______________________________________________________________________\n",
      "\n"
     ]
    },
    {
     "data": {
      "image/png": "[encoded data removed]",
      "text/plain": [
       "<Figure size 432x288 with 1 Axes>"
      ]
     },
     "metadata": {
      "needs_background": "light"
     },
     "output_type": "display_data"
    },
    {
     "data": {
      "image/png": "[encoded data removed]",
      "text/plain": [
       "<Figure size 432x288 with 1 Axes>"
      ]
     },
     "metadata": {
      "needs_background": "light"
     },
     "output_type": "display_data"
    },
    {
     "name": "stdout",
     "output_type": "stream",
     "text": [
      "mean: 0.22725012637693667\n",
      "median: 0.189\n",
      "min: 0.0\n",
      "max: 1.0\n",
      "stdev: 0.19037464417814948\n",
      "______________________________________________________________________\n",
      "\n"
     ]
    },
    {
     "data": {
      "image/png": "[encoded data removed]",
      "text/plain": [
       "<Figure size 432x288 with 1 Axes>"
      ]
     },
     "metadata": {
      "needs_background": "light"
     },
     "output_type": "display_data"
    },
    {
     "data": {
      "image/png": "[encoded data removed]",
      "text/plain": [
       "<Figure size 432x288 with 1 Axes>"
      ]
     },
     "metadata": {
      "needs_background": "light"
     },
     "output_type": "display_data"
    },
    {
     "name": "stdout",
     "output_type": "stream",
     "text": [
      "mean: 0.17886990300308964\n",
      "median: 0.14130434782608695\n",
      "min: 0.0\n",
      "max: 1.0\n",
      "stdev: 0.1632983253638842\n",
      "______________________________________________________________________\n",
      "\n"
     ]
    }
   ],
   "source": [
    "import numpy as np\n",
    "import matplotlib.pyplot as plt\n",
    "import seaborn as sns\n",
    "%matplotlib inline\n",
    "#subject = .select_dtypes(include='number')\n",
    "for x in df_num:\n",
    "    df_num[x].plot.hist()\n",
    "    plt.xlabel(x)\n",
    "    plt.show()\n",
    "    df_num[x].plot.box()\n",
    "    plt.show()\n",
    "    print(\"mean:\",df_num[x].mean())\n",
    "    print(\"median:\",df_num[x].median())\n",
    "    print(\"min:\",df_num[x].min())\n",
    "    print(\"max:\",df_num[x].max())\n",
    "    print(\"stdev:\",df_num[x].std())\n",
    "    print(\"______________________________________________________________________\")\n",
    "    print(\"\")"
   ]
  },
  {
   "cell_type": "code",
   "execution_count": 41,
   "id": "58568ad0",
   "metadata": {},
   "outputs": [
    {
     "data": {
      "text/html": [
       "<div>\n",
       "<style scoped>\n",
       "    .dataframe tbody tr th:only-of-type {\n",
       "        vertical-align: middle;\n",
       "    }\n",
       "\n",
       "    .dataframe tbody tr th {\n",
       "        vertical-align: top;\n",
       "    }\n",
       "\n",
       "    .dataframe thead th {\n",
       "        text-align: right;\n",
       "    }\n",
       "</style>\n",
       "<table border=\"1\" class=\"dataframe\">\n",
       "  <thead>\n",
       "    <tr style=\"text-align: right;\">\n",
       "      <th></th>\n",
       "      <th>calories</th>\n",
       "      <th>protein</th>\n",
       "      <th>fat</th>\n",
       "      <th>sodium</th>\n",
       "      <th>fiber</th>\n",
       "      <th>carbo</th>\n",
       "      <th>sugars</th>\n",
       "      <th>potass</th>\n",
       "    </tr>\n",
       "  </thead>\n",
       "  <tbody>\n",
       "    <tr>\n",
       "      <th>calories</th>\n",
       "      <td>1.000000</td>\n",
       "      <td>0.019066</td>\n",
       "      <td>0.498610</td>\n",
       "      <td>0.300649</td>\n",
       "      <td>-0.293413</td>\n",
       "      <td>0.250681</td>\n",
       "      <td>0.562340</td>\n",
       "      <td>-0.066609</td>\n",
       "    </tr>\n",
       "    <tr>\n",
       "      <th>protein</th>\n",
       "      <td>0.019066</td>\n",
       "      <td>1.000000</td>\n",
       "      <td>0.208431</td>\n",
       "      <td>-0.054674</td>\n",
       "      <td>0.500330</td>\n",
       "      <td>-0.130864</td>\n",
       "      <td>-0.329142</td>\n",
       "      <td>0.549407</td>\n",
       "    </tr>\n",
       "    <tr>\n",
       "      <th>fat</th>\n",
       "      <td>0.498610</td>\n",
       "      <td>0.208431</td>\n",
       "      <td>1.000000</td>\n",
       "      <td>-0.005407</td>\n",
       "      <td>0.016719</td>\n",
       "      <td>-0.318043</td>\n",
       "      <td>0.270819</td>\n",
       "      <td>0.193279</td>\n",
       "    </tr>\n",
       "    <tr>\n",
       "      <th>sodium</th>\n",
       "      <td>0.300649</td>\n",
       "      <td>-0.054674</td>\n",
       "      <td>-0.005407</td>\n",
       "      <td>1.000000</td>\n",
       "      <td>-0.070675</td>\n",
       "      <td>0.355983</td>\n",
       "      <td>0.101451</td>\n",
       "      <td>-0.032603</td>\n",
       "    </tr>\n",
       "    <tr>\n",
       "      <th>fiber</th>\n",
       "      <td>-0.293413</td>\n",
       "      <td>0.500330</td>\n",
       "      <td>0.016719</td>\n",
       "      <td>-0.070675</td>\n",
       "      <td>1.000000</td>\n",
       "      <td>-0.356083</td>\n",
       "      <td>-0.141205</td>\n",
       "      <td>0.903374</td>\n",
       "    </tr>\n",
       "    <tr>\n",
       "      <th>carbo</th>\n",
       "      <td>0.250681</td>\n",
       "      <td>-0.130864</td>\n",
       "      <td>-0.318043</td>\n",
       "      <td>0.355983</td>\n",
       "      <td>-0.356083</td>\n",
       "      <td>1.000000</td>\n",
       "      <td>-0.331665</td>\n",
       "      <td>-0.349685</td>\n",
       "    </tr>\n",
       "    <tr>\n",
       "      <th>sugars</th>\n",
       "      <td>0.562340</td>\n",
       "      <td>-0.329142</td>\n",
       "      <td>0.270819</td>\n",
       "      <td>0.101451</td>\n",
       "      <td>-0.141205</td>\n",
       "      <td>-0.331665</td>\n",
       "      <td>1.000000</td>\n",
       "      <td>0.021696</td>\n",
       "    </tr>\n",
       "    <tr>\n",
       "      <th>potass</th>\n",
       "      <td>-0.066609</td>\n",
       "      <td>0.549407</td>\n",
       "      <td>0.193279</td>\n",
       "      <td>-0.032603</td>\n",
       "      <td>0.903374</td>\n",
       "      <td>-0.349685</td>\n",
       "      <td>0.021696</td>\n",
       "      <td>1.000000</td>\n",
       "    </tr>\n",
       "  </tbody>\n",
       "</table>\n",
       "</div>"
      ],
      "text/plain": [
       "          calories   protein       fat    sodium     fiber     carbo  \\\n",
       "calories  1.000000  0.019066  0.498610  0.300649 -0.293413  0.250681   \n",
       "protein   0.019066  1.000000  0.208431 -0.054674  0.500330 -0.130864   \n",
       "fat       0.498610  0.208431  1.000000 -0.005407  0.016719 -0.318043   \n",
       "sodium    0.300649 -0.054674 -0.005407  1.000000 -0.070675  0.355983   \n",
       "fiber    -0.293413  0.500330  0.016719 -0.070675  1.000000 -0.356083   \n",
       "carbo     0.250681 -0.130864 -0.318043  0.355983 -0.356083  1.000000   \n",
       "sugars    0.562340 -0.329142  0.270819  0.101451 -0.141205 -0.331665   \n",
       "potass   -0.066609  0.549407  0.193279 -0.032603  0.903374 -0.349685   \n",
       "\n",
       "            sugars    potass  \n",
       "calories  0.562340 -0.066609  \n",
       "protein  -0.329142  0.549407  \n",
       "fat       0.270819  0.193279  \n",
       "sodium    0.101451 -0.032603  \n",
       "fiber    -0.141205  0.903374  \n",
       "carbo    -0.331665 -0.349685  \n",
       "sugars    1.000000  0.021696  \n",
       "potass    0.021696  1.000000  "
      ]
     },
     "execution_count": 41,
     "metadata": {},
     "output_type": "execute_result"
    }
   ],
   "source": [
    "df3 = pd.read_csv('/Users/monicakang/Desktop/Cereal_Project/cereal_kaggle.csv', delimiter=',')\n",
    "df3.dataframeName = 'cereal_kaggle.csv'\n",
    "nutrition_facts = [\"calories\",\"protein\",\"fat\",\"sodium\",\"fiber\",\"carbo\",\"sugars\",\"potass\"]\n",
    "df3[nutrition_facts].corr()"
   ]
  },
  {
   "cell_type": "markdown",
   "id": "951f1f0a",
   "metadata": {},
   "source": [
    "|       | Calorie | Protein | Fat | Sodium | Fiber | Carbo | Sugars | Potass |Cups|\n",
    "|-------|:-------:|:-------:|:-------:|:-------:|:-------:|:-------:|:-------:|:-------:|:-----:|\n",
    "|Mean|125.3089545241444|2.780093761994925|1.3448570144606822|190.72948898265355|2.54186591172073|18.717740287369427|8.416671347293953|114.19221753398968| 0.8170886075949368 | \n",
    "|Median|110.0|3.0|1.0|180.0|2.0|15.0|7.0|90.0| 0.75 |\n",
    "|Min|50.0|1.0|0.0|0.0|0.0|5.0|0.0| -1.0| 0.25 |\n",
    "|Max|419.0|10.710000038146973|9.680000305175781|629.6296296296297|14.0|81.48148148148148|37.03703703703704|643.0| 1.5 |\n",
    "|Stdev|73.02128272297129|1.6462120346392324|1.6945464457503874|126.75234135643575|2.7315914750893255|16.018994695585157|7.05091274733887|105.16412153434145|0.22870960144171065|"
   ]
  },
  {
   "cell_type": "code",
   "execution_count": 43,
   "id": "1e5d2581",
   "metadata": {},
   "outputs": [
    {
     "data": {
      "image/png": "[encoded data removed]",
      "text/plain": [
       "<Figure size 432x288 with 1 Axes>"
      ]
     },
     "metadata": {
      "needs_background": "light"
     },
     "output_type": "display_data"
    }
   ],
   "source": [
    "x = df_num['protein']\n",
    "y = df_num['calorie']\n",
    "plt.scatter(x, y)\n",
    "plt.xlabel(\"protein\")\n",
    "plt.ylabel(\"calorie\")\n",
    "plt.show()"
   ]
  },
  {
   "cell_type": "code",
   "execution_count": null,
   "id": "483e5764",
   "metadata": {},
   "outputs": [],
   "source": []
  }
 ],
 "metadata": {
  "kernelspec": {
   "display_name": "Python 3 (ipykernel)",
   "language": "python",
   "name": "python3"
  },
  "language_info": {
   "codemirror_mode": {
    "name": "ipython",
    "version": 3
   },
   "file_extension": ".py",
   "mimetype": "text/x-python",
   "name": "python",
   "nbconvert_exporter": "python",
   "pygments_lexer": "ipython3",
   "version": "3.9.7"
  }
 },
 "nbformat": 4,
 "nbformat_minor": 5
}
